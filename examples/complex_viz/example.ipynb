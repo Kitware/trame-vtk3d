{
 "cells": [
  {
   "cell_type": "code",
   "execution_count": 1,
   "id": "56444a64-0aea-4eb4-a146-cfac907fafa6",
   "metadata": {},
   "outputs": [
    {
     "data": {
      "text/html": [
       "<iframe id=\"trame_trame__template_main\" src=\"http://localhost:62096/index.html?ui=main&reconnect=auto\" style=\"border: none; width: 100%; height: 600px;\"></iframe>"
      ]
     },
     "metadata": {},
     "output_type": "display_data"
    }
   ],
   "source": [
    "from app import DataApp\n",
    "\n",
    "example = DataApp()\n",
    "await example.ui.ready\n",
    "example.ui"
   ]
  },
  {
   "cell_type": "code",
   "execution_count": null,
   "id": "e9680a0c-cc2b-4be3-b007-1a790347a5f7",
   "metadata": {},
   "outputs": [],
   "source": []
  }
 ],
 "metadata": {
  "kernelspec": {
   "display_name": "Python 3 (ipykernel)",
   "language": "python",
   "name": "python3"
  },
  "language_info": {
   "codemirror_mode": {
    "name": "ipython",
    "version": 3
   },
   "file_extension": ".py",
   "mimetype": "text/x-python",
   "name": "python",
   "nbconvert_exporter": "python",
   "pygments_lexer": "ipython3",
   "version": "3.9.6"
  }
 },
 "nbformat": 4,
 "nbformat_minor": 5
}
